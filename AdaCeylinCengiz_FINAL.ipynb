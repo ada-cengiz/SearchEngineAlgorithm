{
  "nbformat": 4,
  "nbformat_minor": 0,
  "metadata": {
    "colab": {
      "provenance": []
    },
    "kernelspec": {
      "name": "python3",
      "display_name": "Python 3"
    },
    "language_info": {
      "name": "python"
    }
  },
  "cells": [
    {
      "cell_type": "code",
      "source": [
        "# Ada Ceylin Cengiz\n",
        "# 2022211045"
      ],
      "metadata": {
        "id": "j7SLOOhYucqd"
      },
      "execution_count": null,
      "outputs": []
    },
    {
      "cell_type": "code",
      "source": [
        "# question 1"
      ],
      "metadata": {
        "id": "kN8W5nKb5NNr"
      },
      "execution_count": null,
      "outputs": []
    },
    {
      "cell_type": "code",
      "execution_count": 1,
      "metadata": {
        "id": "_VH7yFGXsX2W"
      },
      "outputs": [],
      "source": [
        "def get_page(url):\n",
        "  try:\n",
        "    import urllib.request\n",
        "    page = urllib.request.urlopen(url).read()\n",
        "    page = page.decode(\"utf-8\")\n",
        "    return page\n",
        "  except:\n",
        "    return \"\"\n",
        "\n",
        "\n",
        "def get_next_target(page):\n",
        "    start_link = page.find('<a href=')\n",
        "    if start_link == -1:\n",
        "        return None, 0\n",
        "    start_quote = page.find('\"', start_link)\n",
        "    end_quote = page.find('\"', start_quote+1)\n",
        "    url = page[start_quote + 1:end_quote]\n",
        "    return url, end_quote\n",
        "\n",
        "\n",
        "def get_all_links(page):\n",
        "    links = []\n",
        "    while True:\n",
        "      url, endpos = get_next_target(page)\n",
        "      if url:\n",
        "        links.append(url)\n",
        "        page = page[endpos:]\n",
        "      else:\n",
        "        break\n",
        "    return links\n",
        "\n",
        "\n",
        "def union(p,q):\n",
        "    for e in q:\n",
        "        if e not in p:\n",
        "            p.append(e)\n",
        "\n",
        "\n",
        "def add_toIndex(index, keyword, url):\n",
        "    if keyword in index:\n",
        "        index[keyword].append(url)\n",
        "    else:\n",
        "        index[keyword] = [url]\n",
        "\n",
        "\n",
        "def getclearpage(content):\n",
        "  title = content[content.find(\"<title>\")+7:content.find(\"</title>\")]\n",
        "  body = content[content.find(\"<body>\")+6:content.find(\"</body>\")]\n",
        "  while body.find(\">\") != -1:\n",
        "    start =  body.find(\"<\")\n",
        "    end =  body.find(\">\")\n",
        "    body = body[:start] + body[end+1:]\n",
        "  return title + body\n",
        "\n",
        "\n",
        "def addPageToIndex(index, url, content):\n",
        "  content = getclearpage(content)\n",
        "  words = content.split()\n",
        "  for word in words:\n",
        "    add_toIndex(index, word, url)\n",
        "\n",
        "\n",
        "def crawlWeb(seed):\n",
        "  tocrawl = [seed]\n",
        "  crawled = []\n",
        "  index = {}\n",
        "  graph = {}\n",
        "  while tocrawl:\n",
        "    page = tocrawl.pop()\n",
        "    if page not in crawled:\n",
        "      content = get_page(page)\n",
        "      addPageToIndex(index, page, content)\n",
        "      outlinks = get_all_links(content)\n",
        "      graph[page] = outlinks\n",
        "      union(tocrawl, get_all_links(content))\n",
        "      crawled.append(page)\n",
        "  return index, graph\n",
        "\n",
        "# The returned graph is a directed graph where\n",
        "# each URL acts as a node and is mapped to a list of URLs,\n",
        "# forming the edges. The graph represents the interconnected\n",
        "# structure of the web.\n",
        "\n",
        "\n",
        "def lookup(index, keyword):\n",
        "    if keyword in index:\n",
        "        return index[keyword]\n",
        "    else:\n",
        "        return None\n",
        "\n",
        "index, graph = crawlWeb(\"https://searchengineplaces.com.tr/\")\n"
      ]
    },
    {
      "cell_type": "code",
      "source": [
        "# 1b\n",
        "\n",
        "output = f\"The graph has {len(graph)} elements. These are:\\n\"\n",
        "\n",
        "index = 1\n",
        "for page in graph:\n",
        "    outlinks = graph[page]\n",
        "    output += f\"\\t{index}. [{page}]:{outlinks}\\n\"\n",
        "    index += 1\n",
        "\n",
        "print(output)\n"
      ],
      "metadata": {
        "colab": {
          "base_uri": "https://localhost:8080/"
        },
        "id": "h1jSja0Gsp4U",
        "outputId": "04f58664-487f-4b87-b1de-fe6e64c1cfab"
      },
      "execution_count": 2,
      "outputs": [
        {
          "output_type": "stream",
          "name": "stdout",
          "text": [
            "The graph has 10 elements. These are:\n",
            "\t1. [https://searchengineplaces.com.tr/]:['http://www.searchengineplaces.com.tr/travel_guide.html']\n",
            "\t2. [http://www.searchengineplaces.com.tr/travel_guide.html]:['http://www.searchengineplaces.com.tr/ankara.html', 'http://www.searchengineplaces.com.tr/konya.html', 'http://www.searchengineplaces.com.tr/istanbul.html', 'http://www.searchengineplaces.com.tr/oktayrecommends.html', 'http://www.searchengineplaces.com.tr/seymarecommends.html']\n",
            "\t3. [http://www.searchengineplaces.com.tr/seymarecommends.html]:['http://www.searchengineplaces.com.tr/oktayrecommends.html', 'http://www.searchengineplaces.com.tr/konya.html']\n",
            "\t4. [http://www.searchengineplaces.com.tr/oktayrecommends.html]:['http://www.searchengineplaces.com.tr/istanbul.html']\n",
            "\t5. [http://www.searchengineplaces.com.tr/istanbul.html]:['http://www.searchengineplaces.com.tr/maidens_tower.html', 'http://www.searchengineplaces.com.tr/galata_tower.html']\n",
            "\t6. [http://www.searchengineplaces.com.tr/galata_tower.html]:['http://www.searchengineplaces.com.tr/istanbul.html', 'http://www.searchengineplaces.com.tr/travel_guide.html']\n",
            "\t7. [http://www.searchengineplaces.com.tr/maidens_tower.html]:['http://www.searchengineplaces.com.tr/istanbul.html', 'http://www.searchengineplaces.com.tr/travel_guide.html']\n",
            "\t8. [http://www.searchengineplaces.com.tr/konya.html]:['http://www.searchengineplaces.com.tr/seymarecommends.html', 'http://www.searchengineplaces.com.tr/mevlana.html']\n",
            "\t9. [http://www.searchengineplaces.com.tr/mevlana.html]:['http://www.searchengineplaces.com.tr/travel_guide.html']\n",
            "\t10. [http://www.searchengineplaces.com.tr/ankara.html]:[]\n",
            "\n"
          ]
        }
      ]
    },
    {
      "cell_type": "code",
      "source": [
        "# 1c\n",
        "def computeRanks(graph):\n",
        "  d = 0.8\n",
        "  N = len(graph)\n",
        "  numloops = 10\n",
        "  ranks = {}\n",
        "  for page in graph:\n",
        "    ranks[page] = 1/N\n",
        "\n",
        "  for i in range(0, numloops):\n",
        "    newranks = {}\n",
        "    for page in graph:\n",
        "      newrank = (1-d)/N\n",
        "      for node in graph:\n",
        "        if page in graph[node]:\n",
        "          newrank = newrank + d*(ranks[node]/len(graph[node]))\n",
        "      newranks[page] = newrank\n",
        "    ranks = newranks\n",
        "  return newranks\n"
      ],
      "metadata": {
        "id": "3OpIoL3dswlr"
      },
      "execution_count": 3,
      "outputs": []
    },
    {
      "cell_type": "code",
      "source": [
        "index , graph = crawlWeb (\"https://searchengineplaces.com.tr/\")\n",
        "ranks = computeRanks ( graph )\n",
        "print ( ranks )"
      ],
      "metadata": {
        "colab": {
          "base_uri": "https://localhost:8080/"
        },
        "id": "gXQtomOBs92I",
        "outputId": "011df263-1361-4d7c-aa1f-50ca90a4f962"
      },
      "execution_count": 4,
      "outputs": [
        {
          "output_type": "stream",
          "name": "stdout",
          "text": [
            "{'https://searchengineplaces.com.tr/': 0.019999999999999997, 'http://www.searchengineplaces.com.tr/travel_guide.html': 0.14780429869056003, 'http://www.searchengineplaces.com.tr/seymarecommends.html': 0.073060618584064, 'http://www.searchengineplaces.com.tr/oktayrecommends.html': 0.073060618584064, 'http://www.searchengineplaces.com.tr/istanbul.html': 0.17460832634470402, 'http://www.searchengineplaces.com.tr/galata_tower.html': 0.09025810358272002, 'http://www.searchengineplaces.com.tr/maidens_tower.html': 0.09025810358272002, 'http://www.searchengineplaces.com.tr/konya.html': 0.073060618584064, 'http://www.searchengineplaces.com.tr/mevlana.html': 0.04928445079552, 'http://www.searchengineplaces.com.tr/ankara.html': 0.043776167788544}\n"
          ]
        }
      ]
    },
    {
      "cell_type": "code",
      "source": [
        "ranks = computeRanks(graph)\n",
        "\n",
        "output = \"\"\n",
        "for page in ranks:\n",
        "    rank = ranks[page]\n",
        "    output += f\"The rank of the page [{page}]: {rank}\\n\"\n",
        "output\n",
        "\n",
        "print(output)"
      ],
      "metadata": {
        "colab": {
          "base_uri": "https://localhost:8080/"
        },
        "id": "1tzGdmistAYy",
        "outputId": "a4659e86-a4d4-4eab-bcd8-cef2bc854cc6"
      },
      "execution_count": 5,
      "outputs": [
        {
          "output_type": "stream",
          "name": "stdout",
          "text": [
            "The rank of the page [https://searchengineplaces.com.tr/]: 0.019999999999999997\n",
            "The rank of the page [http://www.searchengineplaces.com.tr/travel_guide.html]: 0.14780429869056003\n",
            "The rank of the page [http://www.searchengineplaces.com.tr/seymarecommends.html]: 0.073060618584064\n",
            "The rank of the page [http://www.searchengineplaces.com.tr/oktayrecommends.html]: 0.073060618584064\n",
            "The rank of the page [http://www.searchengineplaces.com.tr/istanbul.html]: 0.17460832634470402\n",
            "The rank of the page [http://www.searchengineplaces.com.tr/galata_tower.html]: 0.09025810358272002\n",
            "The rank of the page [http://www.searchengineplaces.com.tr/maidens_tower.html]: 0.09025810358272002\n",
            "The rank of the page [http://www.searchengineplaces.com.tr/konya.html]: 0.073060618584064\n",
            "The rank of the page [http://www.searchengineplaces.com.tr/mevlana.html]: 0.04928445079552\n",
            "The rank of the page [http://www.searchengineplaces.com.tr/ankara.html]: 0.043776167788544\n",
            "\n"
          ]
        }
      ]
    },
    {
      "cell_type": "code",
      "source": [
        "# 1d\n",
        "def rankedLookup(index, key, graph):\n",
        "    ranks = computeRanks(graph)\n",
        "\n",
        "    if key not in index:\n",
        "        return []\n",
        "    pages = list(set(index[key]))\n",
        "    def get_rank(page):\n",
        "        return ranks[page]\n",
        "    sorted_pages = sorted(pages, key=get_rank, reverse=True)\n",
        "\n",
        "    return sorted_pages"
      ],
      "metadata": {
        "id": "K2UP8mvAtMit"
      },
      "execution_count": 7,
      "outputs": []
    },
    {
      "cell_type": "code",
      "source": [
        "results = rankedLookup ( index , \"in\", graph )\n",
        "for result in results :\n",
        "  print ( result )"
      ],
      "metadata": {
        "colab": {
          "base_uri": "https://localhost:8080/"
        },
        "id": "Q2KlIxC4tTxH",
        "outputId": "13ad3976-dd18-4851-c59c-744b9e330691"
      },
      "execution_count": 8,
      "outputs": [
        {
          "output_type": "stream",
          "name": "stdout",
          "text": [
            "http://www.searchengineplaces.com.tr/istanbul.html\n",
            "http://www.searchengineplaces.com.tr/travel_guide.html\n",
            "http://www.searchengineplaces.com.tr/galata_tower.html\n",
            "http://www.searchengineplaces.com.tr/maidens_tower.html\n",
            "http://www.searchengineplaces.com.tr/konya.html\n",
            "http://www.searchengineplaces.com.tr/mevlana.html\n"
          ]
        }
      ]
    },
    {
      "cell_type": "code",
      "source": [
        "# 1e\n",
        "def lookup(index, key, *args):\n",
        "\n",
        "\n",
        "    warning_message = (\"\"\"This procedure takes 4 outputs these are:\n",
        "1-An index\n",
        "2-A key\n",
        "3-A graph\n",
        "4-A computing procedure respectively.\n",
        "You have 2 option to use this lookup procedure: with or without ranking.\n",
        "-If you intented to use it without page rank be sure you have given two inputs, index and key, respectively.\n",
        "-If you intented to use it with page rank be sure you have given all four input in the given order.\n",
        "INVALID INPUT COMBINATION: Please check the inputs.\"\"\"\n",
        "    )\n",
        "\n",
        "    if len(args) == 0:\n",
        "        if key in index:\n",
        "            return list(set(index[key]))\n",
        "        return []\n",
        "\n",
        "\n",
        "    elif len(args) == 1:\n",
        "        print(warning_message)\n",
        "\n",
        "    elif len(args) == 2:\n",
        "      graph, compute_ranks = args\n",
        "      if key not in index:\n",
        "        return []\n",
        "      return rankedLookup(index, key, graph)\n"
      ],
      "metadata": {
        "id": "15X8-4XFtYUN"
      },
      "execution_count": 11,
      "outputs": []
    },
    {
      "cell_type": "code",
      "source": [
        "# Test1\n",
        "\n",
        "see = lookup ( index , \"in\", graph , computeRanks ) # ATTENTION !!!!!\n",
        "for e in see :\n",
        "  print ( e )"
      ],
      "metadata": {
        "colab": {
          "base_uri": "https://localhost:8080/"
        },
        "id": "RAwCu5BktcM-",
        "outputId": "0cb91570-7e12-41d2-f3b6-43259f78811d"
      },
      "execution_count": 15,
      "outputs": [
        {
          "output_type": "stream",
          "name": "stdout",
          "text": [
            "http://www.searchengineplaces.com.tr/istanbul.html\n",
            "http://www.searchengineplaces.com.tr/travel_guide.html\n",
            "http://www.searchengineplaces.com.tr/galata_tower.html\n",
            "http://www.searchengineplaces.com.tr/maidens_tower.html\n",
            "http://www.searchengineplaces.com.tr/konya.html\n",
            "http://www.searchengineplaces.com.tr/mevlana.html\n"
          ]
        }
      ]
    },
    {
      "cell_type": "code",
      "source": [
        "# Test for duplicate outputs\n",
        "\n",
        "assert rankedLookup( index , \"in\", graph ) == lookup( index , \"in\", graph , computeRanks )"
      ],
      "metadata": {
        "id": "40Hwz1Trtgag"
      },
      "execution_count": 18,
      "outputs": []
    },
    {
      "cell_type": "code",
      "source": [
        "# Test 2\n",
        "\n",
        "see1 = lookup ( index , \"in\")\n",
        "for e in see1 :\n",
        "  print(e)"
      ],
      "metadata": {
        "colab": {
          "base_uri": "https://localhost:8080/"
        },
        "id": "0s_QYMo1t64j",
        "outputId": "66e4395b-574f-4c39-d6eb-fa0182893656"
      },
      "execution_count": 17,
      "outputs": [
        {
          "output_type": "stream",
          "name": "stdout",
          "text": [
            "http://www.searchengineplaces.com.tr/istanbul.html\n",
            "http://www.searchengineplaces.com.tr/konya.html\n",
            "http://www.searchengineplaces.com.tr/galata_tower.html\n",
            "http://www.searchengineplaces.com.tr/mevlana.html\n",
            "http://www.searchengineplaces.com.tr/maidens_tower.html\n",
            "http://www.searchengineplaces.com.tr/travel_guide.html\n"
          ]
        }
      ]
    },
    {
      "cell_type": "code",
      "source": [
        "# Test 3\n",
        "\n",
        "lookup ( index , \"in\", graph )"
      ],
      "metadata": {
        "colab": {
          "base_uri": "https://localhost:8080/"
        },
        "id": "6PPKtBGbtnRa",
        "outputId": "f96da7f7-4730-465a-f6cd-fce977e80b51"
      },
      "execution_count": 13,
      "outputs": [
        {
          "output_type": "stream",
          "name": "stdout",
          "text": [
            "This procedure takes 4 outputs these are:\n",
            "1-An index\n",
            "2-A key\n",
            "3-A graph\n",
            "4-A computing procedure respectively.\n",
            "You have 2 option to use this lookup procedure: with or without ranking.\n",
            "-If you intented to use it without page rank be sure you have given two inputs, index and key, respectively.\n",
            "-If you intented to use it with page rank be sure you have given all four input in the given order.\n",
            "INVALID INPUT COMBINATION: Please check the inputs.\n"
          ]
        }
      ]
    },
    {
      "cell_type": "code",
      "source": [
        "# Test 4\n",
        "\n",
        "lookup ( index , \"in\", computeRanks )"
      ],
      "metadata": {
        "colab": {
          "base_uri": "https://localhost:8080/"
        },
        "id": "PX_Idn6atrhQ",
        "outputId": "069347b4-d3ae-4106-802f-680318cfeecb"
      },
      "execution_count": 14,
      "outputs": [
        {
          "output_type": "stream",
          "name": "stdout",
          "text": [
            "This procedure takes 4 outputs these are:\n",
            "1-An index\n",
            "2-A key\n",
            "3-A graph\n",
            "4-A computing procedure respectively.\n",
            "You have 2 option to use this lookup procedure: with or without ranking.\n",
            "-If you intented to use it without page rank be sure you have given two inputs, index and key, respectively.\n",
            "-If you intented to use it with page rank be sure you have given all four input in the given order.\n",
            "INVALID INPUT COMBINATION: Please check the inputs.\n"
          ]
        }
      ]
    },
    {
      "cell_type": "code",
      "source": [
        "# question 2"
      ],
      "metadata": {
        "id": "NlJJ8oAl2Aiq"
      },
      "execution_count": null,
      "outputs": []
    },
    {
      "cell_type": "code",
      "source": [
        "import requests\n",
        "import random\n",
        "\n",
        "def download_file_from_drive(file_url, colab_path):\n",
        "    if \"drive.google.com\" in file_url:\n",
        "        file_id = file_url.split('/d/')[1].split('/')[0]\n",
        "        download_url = f\"https://drive.google.com/uc?export=download&id={file_id}\"\n",
        "    else:\n",
        "        raise ValueError(\"The provided URL is not a valid Google Drive link.\")\n",
        "\n",
        "    response = requests.get(download_url, stream=True)\n",
        "\n",
        "    if response.status_code == 200:\n",
        "        with open(colab_path, 'wb') as file:\n",
        "            for chunk in response.iter_content(chunk_size=1024):\n",
        "                if chunk:\n",
        "                    file.write(chunk)\n",
        "        print(f\"File successfully downloaded to {colab_path}\")\n",
        "    else:\n",
        "        raise Exception(\"Failed to download the file. Check the URL or file permissions.\")\n",
        "\n",
        "colab_path = \"/content/words.txt\"\n",
        "file_url = \"https://drive.google.com/file/d/1cjCZ-5uAHVFLXLV6HuSM98_QblWaXrBZ/view?usp=share_link\"\n",
        "download_file_from_drive(file_url,colab_path)\n",
        "\n",
        "\n",
        "WORDLIST_FILENAME = \"words.txt\"\n",
        "\n",
        "def load_words():\n",
        "\n",
        "  inFile = open(WORDLIST_FILENAME, 'r')\n",
        "  line = inFile.readline()\n",
        "  wordlist = line.split()\n",
        "  print(\"  \", len(wordlist), \"words loaded.\")\n",
        "  return wordlist\n",
        "\n",
        "def word_select(wordlist, secretword_length):\n",
        "  return random.choice([word for word in wordlist if len(word) == secretword_length])\n",
        "\n",
        "def updatelist1(secretword, guess):\n",
        "  return [guess[i] if guess[i] == secretword[i] else None for i in range(len(secretword))]\n",
        "\n",
        "def updatelist2(secretword, guess):\n",
        "  return [guess[i] for i in range(len(secretword)) if guess[i] in secretword and guess[i] != secretword[i]]\n",
        "\n",
        "def updatelist3(secretword, guess):\n",
        "  return [letter for letter in guess if letter not in secretword]\n",
        "\n",
        "def cleanwordlist(wordlist, list1, list2, list3):\n",
        "\n",
        "    valid_words = []\n",
        "\n",
        "    for word in wordlist:\n",
        "        is_valid = True\n",
        "\n",
        "        for i in range(len(list1)):\n",
        "            if list1[i] is not None and word[i] != list1[i]:\n",
        "                is_valid = False\n",
        "                break\n",
        "\n",
        "        if is_valid:\n",
        "            for letter in list2:\n",
        "                if letter not in word:\n",
        "                    is_valid = False\n",
        "                    break\n",
        "\n",
        "        if is_valid:\n",
        "            for letter in list3:\n",
        "                if letter in word:\n",
        "                    is_valid = False\n",
        "                    break\n",
        "\n",
        "        if is_valid:\n",
        "            valid_words.append(word)\n",
        "\n",
        "    return valid_words\n",
        "\n",
        "def wordle(secretword, guess):\n",
        "  list1 = updatelist1(secretword,guess)\n",
        "  list2 = updatelist2(secretword,guess)\n",
        "  list3 = updatelist3(secretword,guess)\n",
        "  return list1, list2, list3\n",
        "\n",
        "def generateguess(wordlist):\n",
        "  return random.choice(wordlist)\n",
        "\n",
        "def optimize_wordle():\n",
        "    wordlist = load_words()\n",
        "    secretword = random.choice(wordlist)\n",
        "    secretword_length = len(secretword)\n",
        "    wordlist = [word for word in wordlist if len(word) == secretword_length]\n",
        "\n",
        "    attempts = 0\n",
        "    used_guesses = set()\n",
        "    guesses = []\n",
        "\n",
        "    guess = word_select(wordlist, secretword_length)\n",
        "\n",
        "    while True:\n",
        "        attempts += 1\n",
        "        guesses.append(guess)\n",
        "        used_guesses.add(guess)\n",
        "\n",
        "        list1, list2, list3 = wordle(secretword, guess)\n",
        "\n",
        "        if guess == secretword:\n",
        "            print(f\"Secret word is: {secretword}\\n\")\n",
        "            print(\"Computer will try to find this word...\\n\")\n",
        "            for i in range(len(guesses)):\n",
        "              print(f\"Computer guess is:\", guesses[i])\n",
        "            print(f\"\\nThe computer guessed the word in {attempts} attempts.\\n\")\n",
        "            print(f\"List of the computer's guesses: {guesses}\")\n",
        "            break\n",
        "\n",
        "        wordlist = cleanwordlist(wordlist, list1, list2, list3)\n",
        "        wordlist = [word for word in wordlist if word not in used_guesses]\n",
        "\n",
        "        if not wordlist:\n",
        "            print(\"No more valid words to guess.\")\n",
        "            break\n",
        "\n",
        "        guess = generateguess(wordlist)"
      ],
      "metadata": {
        "colab": {
          "base_uri": "https://localhost:8080/"
        },
        "id": "XN7xGjZk4Eaq",
        "outputId": "8d73f6ce-b9e8-4010-f9b4-49baa09edc3f"
      },
      "execution_count": 19,
      "outputs": [
        {
          "output_type": "stream",
          "name": "stdout",
          "text": [
            "File successfully downloaded to /content/words.txt\n"
          ]
        }
      ]
    },
    {
      "cell_type": "code",
      "source": [
        "optimize_wordle()"
      ],
      "metadata": {
        "colab": {
          "base_uri": "https://localhost:8080/"
        },
        "id": "B3R9N8X84qU7",
        "outputId": "378f505f-5248-44e4-e31b-20ad04d0537a"
      },
      "execution_count": 20,
      "outputs": [
        {
          "output_type": "stream",
          "name": "stdout",
          "text": [
            "   55900 words loaded.\n",
            "Secret word is: roans\n",
            "\n",
            "Computer will try to find this word...\n",
            "\n",
            "Computer guess is: abyss\n",
            "Computer guess is: togas\n",
            "Computer guess is: loams\n",
            "Computer guess is: roars\n",
            "Computer guess is: roans\n",
            "\n",
            "The computer guessed the word in 5 attempts.\n",
            "\n",
            "List of the computer's guesses: ['abyss', 'togas', 'loams', 'roars', 'roans']\n"
          ]
        }
      ]
    }
  ]
}